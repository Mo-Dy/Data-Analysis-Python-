{
 "cells": [
  {
   "cell_type": "code",
   "execution_count": 27,
   "metadata": {},
   "outputs": [],
   "source": [
    "import pandas as pd"
   ]
  },
  {
   "cell_type": "code",
   "execution_count": 28,
   "metadata": {},
   "outputs": [],
   "source": [
    "df = pd.read_csv(\"Movies_Data.csv\")"
   ]
  },
  {
   "cell_type": "code",
   "execution_count": 29,
   "metadata": {},
   "outputs": [
    {
     "data": {
      "text/html": [
       "<div>\n",
       "<style scoped>\n",
       "    .dataframe tbody tr th:only-of-type {\n",
       "        vertical-align: middle;\n",
       "    }\n",
       "\n",
       "    .dataframe tbody tr th {\n",
       "        vertical-align: top;\n",
       "    }\n",
       "\n",
       "    .dataframe thead th {\n",
       "        text-align: right;\n",
       "    }\n",
       "</style>\n",
       "<table border=\"1\" class=\"dataframe\">\n",
       "  <thead>\n",
       "    <tr style=\"text-align: right;\">\n",
       "      <th></th>\n",
       "      <th>Unnamed: 0</th>\n",
       "      <th>Title</th>\n",
       "      <th>Release Date</th>\n",
       "      <th>Color</th>\n",
       "      <th>Genre</th>\n",
       "      <th>Language</th>\n",
       "      <th>Country</th>\n",
       "      <th>Rating</th>\n",
       "      <th>Lead Actor</th>\n",
       "      <th>Director Name</th>\n",
       "      <th>...</th>\n",
       "      <th>Cast FB Likes</th>\n",
       "      <th>Director FB Likes</th>\n",
       "      <th>Movie FB Likes</th>\n",
       "      <th>Score</th>\n",
       "      <th>Total Reviews</th>\n",
       "      <th>Duration</th>\n",
       "      <th>Gross Revenue</th>\n",
       "      <th>Budget</th>\n",
       "      <th>Z_Score</th>\n",
       "      <th>Softmax_Score</th>\n",
       "    </tr>\n",
       "  </thead>\n",
       "  <tbody>\n",
       "    <tr>\n",
       "      <th>0</th>\n",
       "      <td>0</td>\n",
       "      <td>Over the Hill to the Poorhouse</td>\n",
       "      <td>15-09-1920</td>\n",
       "      <td>Black and White</td>\n",
       "      <td>Crime</td>\n",
       "      <td>English</td>\n",
       "      <td>USA</td>\n",
       "      <td>Not Rated</td>\n",
       "      <td>Stephen Carr</td>\n",
       "      <td>Harry F. Millarde</td>\n",
       "      <td>...</td>\n",
       "      <td>4</td>\n",
       "      <td>0</td>\n",
       "      <td>0</td>\n",
       "      <td>4.8</td>\n",
       "      <td>1.0</td>\n",
       "      <td>110.0</td>\n",
       "      <td>3000000</td>\n",
       "      <td>100000</td>\n",
       "      <td>0.415584</td>\n",
       "      <td>0.000032</td>\n",
       "    </tr>\n",
       "    <tr>\n",
       "      <th>1</th>\n",
       "      <td>1</td>\n",
       "      <td>Metropolis</td>\n",
       "      <td>26-01-1927</td>\n",
       "      <td>Black and White</td>\n",
       "      <td>Drama</td>\n",
       "      <td>German</td>\n",
       "      <td>Germany</td>\n",
       "      <td>Not Rated</td>\n",
       "      <td>Brigitte Helm</td>\n",
       "      <td>Fritz Lang</td>\n",
       "      <td>...</td>\n",
       "      <td>203</td>\n",
       "      <td>756</td>\n",
       "      <td>12000</td>\n",
       "      <td>8.3</td>\n",
       "      <td>260.0</td>\n",
       "      <td>145.0</td>\n",
       "      <td>26435</td>\n",
       "      <td>6000000</td>\n",
       "      <td>0.870130</td>\n",
       "      <td>0.001063</td>\n",
       "    </tr>\n",
       "    <tr>\n",
       "      <th>2</th>\n",
       "      <td>2</td>\n",
       "      <td>The Broadway Melody</td>\n",
       "      <td>11-11-1929</td>\n",
       "      <td>Black and White</td>\n",
       "      <td>Musical</td>\n",
       "      <td>English</td>\n",
       "      <td>USA</td>\n",
       "      <td>Passed</td>\n",
       "      <td>Anita Page</td>\n",
       "      <td>Harry Beaumont</td>\n",
       "      <td>...</td>\n",
       "      <td>109</td>\n",
       "      <td>4</td>\n",
       "      <td>167</td>\n",
       "      <td>6.3</td>\n",
       "      <td>36.0</td>\n",
       "      <td>100.0</td>\n",
       "      <td>2808000</td>\n",
       "      <td>379000</td>\n",
       "      <td>0.610390</td>\n",
       "      <td>0.000144</td>\n",
       "    </tr>\n",
       "    <tr>\n",
       "      <th>3</th>\n",
       "      <td>3</td>\n",
       "      <td>42nd Street</td>\n",
       "      <td>29-08-1933</td>\n",
       "      <td>Black and White</td>\n",
       "      <td>Comedy</td>\n",
       "      <td>English</td>\n",
       "      <td>USA</td>\n",
       "      <td>Unrated</td>\n",
       "      <td>Ginger Rogers</td>\n",
       "      <td>Lloyd Bacon</td>\n",
       "      <td>...</td>\n",
       "      <td>995</td>\n",
       "      <td>24</td>\n",
       "      <td>439</td>\n",
       "      <td>7.7</td>\n",
       "      <td>65.0</td>\n",
       "      <td>89.0</td>\n",
       "      <td>2300000</td>\n",
       "      <td>439000</td>\n",
       "      <td>0.792208</td>\n",
       "      <td>0.000584</td>\n",
       "    </tr>\n",
       "    <tr>\n",
       "      <th>4</th>\n",
       "      <td>4</td>\n",
       "      <td>Top Hat</td>\n",
       "      <td>15-04-1935</td>\n",
       "      <td>Black and White</td>\n",
       "      <td>Comedy</td>\n",
       "      <td>English</td>\n",
       "      <td>USA</td>\n",
       "      <td>Approved</td>\n",
       "      <td>Ginger Rogers</td>\n",
       "      <td>Mark Sandrich</td>\n",
       "      <td>...</td>\n",
       "      <td>824</td>\n",
       "      <td>10</td>\n",
       "      <td>1000</td>\n",
       "      <td>7.8</td>\n",
       "      <td>66.0</td>\n",
       "      <td>81.0</td>\n",
       "      <td>3000000</td>\n",
       "      <td>609000</td>\n",
       "      <td>0.805195</td>\n",
       "      <td>0.000645</td>\n",
       "    </tr>\n",
       "  </tbody>\n",
       "</table>\n",
       "<p>5 rows × 21 columns</p>\n",
       "</div>"
      ],
      "text/plain": [
       "   Unnamed: 0                           Title Release Date            Color  \\\n",
       "0           0  Over the Hill to the Poorhouse   15-09-1920  Black and White   \n",
       "1           1                      Metropolis   26-01-1927  Black and White   \n",
       "2           2             The Broadway Melody   11-11-1929  Black and White   \n",
       "3           3                     42nd Street   29-08-1933  Black and White   \n",
       "4           4                         Top Hat   15-04-1935  Black and White   \n",
       "\n",
       "     Genre Language  Country     Rating     Lead Actor      Director Name  \\\n",
       "0    Crime  English      USA  Not Rated   Stephen Carr  Harry F. Millarde   \n",
       "1    Drama   German  Germany  Not Rated  Brigitte Helm         Fritz Lang   \n",
       "2  Musical  English      USA     Passed     Anita Page     Harry Beaumont   \n",
       "3   Comedy  English      USA    Unrated  Ginger Rogers        Lloyd Bacon   \n",
       "4   Comedy  English      USA   Approved  Ginger Rogers      Mark Sandrich   \n",
       "\n",
       "       ...        Cast FB Likes  Director FB Likes  Movie FB Likes  Score  \\\n",
       "0      ...                    4                  0               0    4.8   \n",
       "1      ...                  203                756           12000    8.3   \n",
       "2      ...                  109                  4             167    6.3   \n",
       "3      ...                  995                 24             439    7.7   \n",
       "4      ...                  824                 10            1000    7.8   \n",
       "\n",
       "   Total Reviews  Duration  Gross Revenue   Budget   Z_Score  Softmax_Score  \n",
       "0            1.0     110.0        3000000   100000  0.415584       0.000032  \n",
       "1          260.0     145.0          26435  6000000  0.870130       0.001063  \n",
       "2           36.0     100.0        2808000   379000  0.610390       0.000144  \n",
       "3           65.0      89.0        2300000   439000  0.792208       0.000584  \n",
       "4           66.0      81.0        3000000   609000  0.805195       0.000645  \n",
       "\n",
       "[5 rows x 21 columns]"
      ]
     },
     "execution_count": 29,
     "metadata": {},
     "output_type": "execute_result"
    }
   ],
   "source": [
    "df.head()"
   ]
  },
  {
   "cell_type": "code",
   "execution_count": 30,
   "metadata": {},
   "outputs": [],
   "source": [
    "def outlier_thresholds(dataframe, variable):\n",
    "    quartile1 = dataframe[variable].quantile(0.25)\n",
    "    quartile3 = dataframe[variable].quantile(0.75)\n",
    "    interquantile_range = quartile3 - quartile1\n",
    "    up_limit = quartile3 + 1.5 * interquantile_range\n",
    "    low_limit = quartile1 - 1.5 * interquantile_range\n",
    "    return low_limit, up_limit"
   ]
  },
  {
   "cell_type": "code",
   "execution_count": 40,
   "metadata": {},
   "outputs": [],
   "source": [
    "def has_outliers(dataframe, variable):\n",
    "    low_limit, up_limit = outlier_thresholds(dataframe, variable)\n",
    "    if dataframe[(dataframe[variable] < low_limit) | (dataframe[variable] > up_limit)].any(axis=None):\n",
    "        print(variable, \"yes\")\n",
    "    else:\n",
    "        print(variable, \"no\")"
   ]
  },
  {
   "cell_type": "code",
   "execution_count": 41,
   "metadata": {},
   "outputs": [
    {
     "name": "stdout",
     "output_type": "stream",
     "text": [
      "Score yes\n"
     ]
    }
   ],
   "source": [
    "has_outliers(df, \"Score\")"
   ]
  },
  {
   "cell_type": "code",
   "execution_count": 48,
   "metadata": {},
   "outputs": [],
   "source": [
    "def replace_with_thresholds(dataframe, variable):\n",
    "    low_limit, up_limit = outlier_thresholds(dataframe, variable)\n",
    "    dataframe.loc[(dataframe[variable] < low_limit), variable] = low_limit\n",
    "    dataframe.loc[(dataframe[variable] > up_limit), variable] = up_limit"
   ]
  },
  {
   "cell_type": "code",
   "execution_count": 49,
   "metadata": {},
   "outputs": [],
   "source": [
    "replace_with_thresholds(df, \"Score\")"
   ]
  },
  {
   "cell_type": "code",
   "execution_count": 50,
   "metadata": {},
   "outputs": [
    {
     "name": "stdout",
     "output_type": "stream",
     "text": [
      "Score no\n"
     ]
    }
   ],
   "source": [
    "has_outliers(df, \"Score\")"
   ]
  },
  {
   "cell_type": "code",
   "execution_count": null,
   "metadata": {},
   "outputs": [],
   "source": []
  }
 ],
 "metadata": {
  "kernelspec": {
   "display_name": "Python 3",
   "language": "python",
   "name": "python3"
  },
  "language_info": {
   "codemirror_mode": {
    "name": "ipython",
    "version": 3
   },
   "file_extension": ".py",
   "mimetype": "text/x-python",
   "name": "python",
   "nbconvert_exporter": "python",
   "pygments_lexer": "ipython3",
   "version": "3.7.1"
  }
 },
 "nbformat": 4,
 "nbformat_minor": 2
}
